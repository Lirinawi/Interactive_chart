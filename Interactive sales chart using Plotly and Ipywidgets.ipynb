{
 "cells": [
  {
   "cell_type": "code",
   "execution_count": 2,
   "id": "6f04415e",
   "metadata": {},
   "outputs": [
    {
     "data": {
      "text/html": [
       "        <script type=\"text/javascript\">\n",
       "        window.PlotlyConfig = {MathJaxConfig: 'local'};\n",
       "        if (window.MathJax) {MathJax.Hub.Config({SVG: {font: \"STIX-Web\"}});}\n",
       "        if (typeof require !== 'undefined') {\n",
       "        require.undef(\"plotly\");\n",
       "        requirejs.config({\n",
       "            paths: {\n",
       "                'plotly': ['https://cdn.plot.ly/plotly-2.9.0.min']\n",
       "            }\n",
       "        });\n",
       "        require(['plotly'], function(Plotly) {\n",
       "            window._Plotly = Plotly;\n",
       "        });\n",
       "        }\n",
       "        </script>\n",
       "        "
      ]
     },
     "metadata": {},
     "output_type": "display_data"
    }
   ],
   "source": [
    "import pandas as pd\n",
    "import plotly\n",
    "import plotly.graph_objs as go\n",
    "import plotly.express as px\n",
    "from plotly.offline import iplot\n",
    "import ipywidgets as widgets\n",
    "from ipywidgets import interact, RadioButtons, IntSlider, Layout\n",
    "import cufflinks as cf\n",
    "cf.set_config_file(offline=True)\n",
    "import plotly.io as pio\n",
    "pio.renderers.default='notebook'"
   ]
  },
  {
   "cell_type": "code",
   "execution_count": 3,
   "id": "283a12d2",
   "metadata": {},
   "outputs": [
    {
     "data": {
      "text/html": [
       "<div>\n",
       "<style scoped>\n",
       "    .dataframe tbody tr th:only-of-type {\n",
       "        vertical-align: middle;\n",
       "    }\n",
       "\n",
       "    .dataframe tbody tr th {\n",
       "        vertical-align: top;\n",
       "    }\n",
       "\n",
       "    .dataframe thead th {\n",
       "        text-align: right;\n",
       "    }\n",
       "</style>\n",
       "<table border=\"1\" class=\"dataframe\">\n",
       "  <thead>\n",
       "    <tr style=\"text-align: right;\">\n",
       "      <th></th>\n",
       "      <th>all</th>\n",
       "    </tr>\n",
       "  </thead>\n",
       "  <tbody>\n",
       "    <tr>\n",
       "      <th>1031</th>\n",
       "      <td>14.08 - 11611грн (93) 665п 948кг</td>\n",
       "    </tr>\n",
       "    <tr>\n",
       "      <th>243</th>\n",
       "      <td>05.04 - выходной</td>\n",
       "    </tr>\n",
       "    <tr>\n",
       "      <th>1008</th>\n",
       "      <td>22.07 - 8911грн (92) 590п</td>\n",
       "    </tr>\n",
       "    <tr>\n",
       "      <th>106</th>\n",
       "      <td>20.11 - 4920грн (90) 16:00</td>\n",
       "    </tr>\n",
       "    <tr>\n",
       "      <th>98</th>\n",
       "      <td>12.11 - 6710грн (98) 18:20</td>\n",
       "    </tr>\n",
       "  </tbody>\n",
       "</table>\n",
       "</div>"
      ],
      "text/plain": [
       "                                   all\n",
       "1031  14.08 - 11611грн (93) 665п 948кг\n",
       "243                   05.04 - выходной\n",
       "1008         22.07 - 8911грн (92) 590п\n",
       "106         20.11 - 4920грн (90) 16:00\n",
       "98          12.11 - 6710грн (98) 18:20"
      ]
     },
     "execution_count": 3,
     "metadata": {},
     "output_type": "execute_result"
    }
   ],
   "source": [
    "df = pd.read_csv('https://github.com/Lirinawi/Interactive_chart/blob/main/sales_data.csv?raw=true', \n",
    "                 encoding='cp1251', names=['all'])\n",
    "df.sample(5)"
   ]
  },
  {
   "cell_type": "code",
   "execution_count": 4,
   "id": "c731a7dc",
   "metadata": {},
   "outputs": [
    {
     "data": {
      "text/html": [
       "<div>\n",
       "<style scoped>\n",
       "    .dataframe tbody tr th:only-of-type {\n",
       "        vertical-align: middle;\n",
       "    }\n",
       "\n",
       "    .dataframe tbody tr th {\n",
       "        vertical-align: top;\n",
       "    }\n",
       "\n",
       "    .dataframe thead th {\n",
       "        text-align: right;\n",
       "    }\n",
       "</style>\n",
       "<table border=\"1\" class=\"dataframe\">\n",
       "  <thead>\n",
       "    <tr style=\"text-align: right;\">\n",
       "      <th></th>\n",
       "      <th>profit</th>\n",
       "      <th>cnt_orders</th>\n",
       "      <th>cnt_positions</th>\n",
       "      <th>days_off</th>\n",
       "    </tr>\n",
       "    <tr>\n",
       "      <th>date</th>\n",
       "      <th></th>\n",
       "      <th></th>\n",
       "      <th></th>\n",
       "      <th></th>\n",
       "    </tr>\n",
       "  </thead>\n",
       "  <tbody>\n",
       "    <tr>\n",
       "      <th>2019-06-13</th>\n",
       "      <td>0</td>\n",
       "      <td>0</td>\n",
       "      <td>0</td>\n",
       "      <td>1</td>\n",
       "    </tr>\n",
       "    <tr>\n",
       "      <th>2020-09-05</th>\n",
       "      <td>8511</td>\n",
       "      <td>93</td>\n",
       "      <td>711</td>\n",
       "      <td>0</td>\n",
       "    </tr>\n",
       "    <tr>\n",
       "      <th>2020-11-03</th>\n",
       "      <td>1190</td>\n",
       "      <td>96</td>\n",
       "      <td>582</td>\n",
       "      <td>0</td>\n",
       "    </tr>\n",
       "    <tr>\n",
       "      <th>2020-01-16</th>\n",
       "      <td>0</td>\n",
       "      <td>0</td>\n",
       "      <td>0</td>\n",
       "      <td>1</td>\n",
       "    </tr>\n",
       "    <tr>\n",
       "      <th>2020-05-01</th>\n",
       "      <td>7260</td>\n",
       "      <td>87</td>\n",
       "      <td>478</td>\n",
       "      <td>0</td>\n",
       "    </tr>\n",
       "  </tbody>\n",
       "</table>\n",
       "</div>"
      ],
      "text/plain": [
       "            profit  cnt_orders  cnt_positions  days_off\n",
       "date                                                   \n",
       "2019-06-13       0           0              0         1\n",
       "2020-09-05    8511          93            711         0\n",
       "2020-11-03    1190          96            582         0\n",
       "2020-01-16       0           0              0         1\n",
       "2020-05-01    7260          87            478         0"
      ]
     },
     "execution_count": 4,
     "metadata": {},
     "output_type": "execute_result"
    }
   ],
   "source": [
    "df.dropna(inplace=True, how='all')\n",
    "df['year'] = df['all'].str.extract(r'(\\d{4})год').fillna(method=\"ffill\")\n",
    "df['day_month'] = df['all'].str.extract(r'(\\d{2}\\.\\d{2}).+') \n",
    "df['date'] = df['day_month']  + '.' + df['year']\n",
    "df['profit'] = df['all'].str.extract(r'(\\d{2,4})\\s?грн')\n",
    "df['cnt_orders'] = df['all'].str.extract(r'\\((\\d{2})\\)')\n",
    "df['cnt_positions'] = df['all'].str.extract(r'(\\d{2,3})п')\n",
    "df['days_off'] = df['all'].apply(lambda x: 1 if 'выходной' in x else 0)\n",
    "df.dropna(subset='date', inplace=True)\n",
    "df_ = df.iloc[:, 3:]\n",
    "df_[['profit', 'cnt_orders', 'cnt_positions']] = df_[['profit', 'cnt_orders', 'cnt_positions']].astype('Int32')\n",
    "df_['date'] = pd.to_datetime(df['date'], format='%d.%m.%Y')\n",
    "df_2 = df_.set_index('date').fillna(0)\n",
    "df_2.sample(5)"
   ]
  },
  {
   "cell_type": "code",
   "execution_count": 5,
   "id": "f3dd6b39",
   "metadata": {},
   "outputs": [
    {
     "data": {
      "text/html": [
       "<div>\n",
       "<style scoped>\n",
       "    .dataframe tbody tr th:only-of-type {\n",
       "        vertical-align: middle;\n",
       "    }\n",
       "\n",
       "    .dataframe tbody tr th {\n",
       "        vertical-align: top;\n",
       "    }\n",
       "\n",
       "    .dataframe thead th {\n",
       "        text-align: right;\n",
       "    }\n",
       "</style>\n",
       "<table border=\"1\" class=\"dataframe\">\n",
       "  <thead>\n",
       "    <tr style=\"text-align: right;\">\n",
       "      <th></th>\n",
       "      <th>year</th>\n",
       "      <th>month</th>\n",
       "      <th>profit</th>\n",
       "      <th>cnt_orders</th>\n",
       "      <th>cnt_positions</th>\n",
       "      <th>days_off</th>\n",
       "    </tr>\n",
       "    <tr>\n",
       "      <th>date</th>\n",
       "      <th></th>\n",
       "      <th></th>\n",
       "      <th></th>\n",
       "      <th></th>\n",
       "      <th></th>\n",
       "      <th></th>\n",
       "    </tr>\n",
       "  </thead>\n",
       "  <tbody>\n",
       "    <tr>\n",
       "      <th>2019-06-01</th>\n",
       "      <td>2019</td>\n",
       "      <td>6</td>\n",
       "      <td>174078</td>\n",
       "      <td>2042</td>\n",
       "      <td>10540</td>\n",
       "      <td>6</td>\n",
       "    </tr>\n",
       "    <tr>\n",
       "      <th>2019-01-01</th>\n",
       "      <td>2019</td>\n",
       "      <td>1</td>\n",
       "      <td>133317</td>\n",
       "      <td>2054</td>\n",
       "      <td>9752</td>\n",
       "      <td>6</td>\n",
       "    </tr>\n",
       "    <tr>\n",
       "      <th>2020-02-01</th>\n",
       "      <td>2020</td>\n",
       "      <td>2</td>\n",
       "      <td>117120</td>\n",
       "      <td>1874</td>\n",
       "      <td>9072</td>\n",
       "      <td>8</td>\n",
       "    </tr>\n",
       "    <tr>\n",
       "      <th>2021-04-01</th>\n",
       "      <td>2021</td>\n",
       "      <td>4</td>\n",
       "      <td>150780</td>\n",
       "      <td>2010</td>\n",
       "      <td>11294</td>\n",
       "      <td>8</td>\n",
       "    </tr>\n",
       "    <tr>\n",
       "      <th>2019-08-01</th>\n",
       "      <td>2019</td>\n",
       "      <td>8</td>\n",
       "      <td>193471</td>\n",
       "      <td>1950</td>\n",
       "      <td>12516</td>\n",
       "      <td>6</td>\n",
       "    </tr>\n",
       "  </tbody>\n",
       "</table>\n",
       "</div>"
      ],
      "text/plain": [
       "            year  month  profit  cnt_orders  cnt_positions  days_off\n",
       "date                                                                \n",
       "2019-06-01  2019      6  174078        2042          10540         6\n",
       "2019-01-01  2019      1  133317        2054           9752         6\n",
       "2020-02-01  2020      2  117120        1874           9072         8\n",
       "2021-04-01  2021      4  150780        2010          11294         8\n",
       "2019-08-01  2019      8  193471        1950          12516         6"
      ]
     },
     "execution_count": 5,
     "metadata": {},
     "output_type": "execute_result"
    }
   ],
   "source": [
    "df_report = df_.groupby([df_['date'].dt.year, df_['date'].dt.month]).sum().sort_index()\n",
    "df_report = df_report.reset_index(level=1).rename(columns={'date': 'month'}).reset_index().rename(\n",
    "    columns={'date': 'year'})\n",
    "df_report['year,month'] = df_report['year'].astype('str') + '/' + df_report['month'].astype('str')\n",
    "df_report_2 = df_report.copy()\n",
    "df_report_2['year,month'] = pd.to_datetime(df_report_2['year,month'], format='%Y/%m')\n",
    "df_report_2['year,month'] = df_report_2['year,month'].dt.floor('d')\n",
    "df_report_2.rename(columns={'year,month':'date'}, inplace=True)\n",
    "df_report_2.set_index('date', inplace=True)\n",
    "df_report_2.sample(5)"
   ]
  },
  {
   "cell_type": "code",
   "execution_count": 6,
   "id": "87696b22",
   "metadata": {},
   "outputs": [
    {
     "data": {
      "application/vnd.jupyter.widget-view+json": {
       "model_id": "124bababb78e49628f0c7285443d6730",
       "version_major": 2,
       "version_minor": 0
      },
      "text/plain": [
       "HBox(children=(VBox(children=(IntSlider(value=2022, description='year', max=2022, min=2018), IntSlider(value=7…"
      ]
     },
     "metadata": {},
     "output_type": "display_data"
    },
    {
     "data": {
      "application/vnd.jupyter.widget-view+json": {
       "model_id": "8bb32488f6c949ec90d3155529ad7fb7",
       "version_major": 2,
       "version_minor": 0
      },
      "text/plain": [
       "Output()"
      ]
     },
     "metadata": {},
     "output_type": "display_data"
    }
   ],
   "source": [
    "analysis_by=RadioButtons(options=['month', 'days', 'None'], value='None', description='analysis_by')\n",
    "year=IntSlider(min=df_report_2.year.min(), max=df_report_2.year.max(), step=1, value=2022, description='year')\n",
    "month=IntSlider(min=1, max=12, step=1, value=7, description='month')\n",
    "all_months=widgets.Checkbox( value=True, description='all_months')\n",
    "indicator=widgets.Dropdown(options=list(df_2.select_dtypes('number').columns), value='profit',\n",
    "                           description='indicator')                   \n",
    "ui = widgets.HBox(\n",
    "        [widgets.VBox([year,month]),\n",
    "        analysis_by,\n",
    "        widgets.VBox([indicator,all_months])\n",
    "        ], \n",
    "#         layout=Layout(display='flex', flex_flow='row wrap', justify_content='space-between')\n",
    "    )\n",
    "def bar_plot(analysis_by,year,month,all_months,indicator):\n",
    "    if (month not in df_report_2.loc[str(year)].month.to_list()) & (all_months==False):\n",
    "        return print( 'Sorry, but no data for this month.')\n",
    "    if all_months:\n",
    "            df_filter = str(year)\n",
    "    else:\n",
    "            df_filter = str(year)+'/'+str(month)\n",
    "    if analysis_by=='days':\n",
    "        print('Mean value :', \n",
    "            round(df_.set_index('date').loc[df_filter].reset_index().groupby(\n",
    "            by=df_.set_index('date').loc[df_filter].reset_index()['date'].dt.year).mean()[indicator].iloc[0]))\n",
    "        return px.bar(df_.set_index('date').fillna(0).loc[df_filter], y=indicator,text=indicator).update_traces(\n",
    "            texttemplate='%{text:,}').show()\n",
    "    elif analysis_by=='month':\n",
    "        print('Mean value :', \n",
    "        round(df_report_2.loc[df_filter].groupby(by=df_report_2.loc[df_filter]['year']).mean()[indicator].iloc[0]))\n",
    "        return px.bar(df_report_2.loc[df_filter], y=indicator,text=indicator).update_traces(\n",
    "            texttemplate='%{text:,}').show()\n",
    "out = widgets.interactive_output(bar_plot, {'analysis_by': analysis_by, 'year' : year, 'month': month, \n",
    "                                           'all_months': all_months, 'indicator': indicator}) \n",
    "\n",
    "\n",
    "display(ui, out)"
   ]
  },
  {
   "cell_type": "code",
   "execution_count": null,
   "id": "5605bd74",
   "metadata": {},
   "outputs": [],
   "source": []
  },
  {
   "cell_type": "code",
   "execution_count": null,
   "id": "cae4b972",
   "metadata": {},
   "outputs": [],
   "source": []
  }
 ],
 "metadata": {
  "kernelspec": {
   "display_name": "Python 3 (ipykernel)",
   "language": "python",
   "name": "python3"
  },
  "language_info": {
   "codemirror_mode": {
    "name": "ipython",
    "version": 3
   },
   "file_extension": ".py",
   "mimetype": "text/x-python",
   "name": "python",
   "nbconvert_exporter": "python",
   "pygments_lexer": "ipython3",
   "version": "3.9.12"
  }
 },
 "nbformat": 4,
 "nbformat_minor": 5
}
